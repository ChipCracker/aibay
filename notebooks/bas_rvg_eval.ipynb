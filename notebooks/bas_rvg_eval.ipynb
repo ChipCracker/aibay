{
 "cells": [
  {
   "cell_type": "markdown",
   "metadata": {},
   "source": "# BAS RVG1 – Vergleich Whisper Large V3 vs. Parakeet TDT v3\n\nDieses Notebook lädt die aggregierten Ergebnisse aus `bas_rvg.csv` und vergleicht die Performance von zwei State-of-the-Art ASR-Modellen:\n- **Whisper Large V3** (OpenAI)\n- **Parakeet TDT v3** (NVIDIA)\n\nDie Word Error Rate (WER) beider Modelle wird in Abhängigkeit von der Selbstangabe der Sprecher:innen (`dialect_self`) analysiert.\n\nDie folgenden Schritte werden durchgeführt:\n- Daten und Metadaten aus dem angegebenen `OUTPUT_PATH` laden\n- Vergleichende Kennzahlen für beide Modelle berechnen\n- WER-Verteilungen beider Modelle visualisieren und vergleichen\n- Dialektangaben bereinigen, um vergleichbare Gruppen zu bilden\n- Durchschnittliche WER je Dialektgruppe für beide Modelle analysieren\n- Identifizieren, welches Modell für welche Dialekte besser abschneidet",
   "id": "2193cd3e4bb1b40a"
  },
  {
   "cell_type": "code",
   "metadata": {
    "ExecuteTime": {
     "end_time": "2025-10-10T14:10:46.004254Z",
     "start_time": "2025-10-10T14:10:45.489771Z"
    }
   },
   "source": [
    "from __future__ import annotations\n",
    "\n",
    "import re\n",
    "from pathlib import Path\n",
    "\n",
    "import matplotlib.pyplot as plt\n",
    "import pandas as pd\n",
    "\n",
    "import paths\n",
    "\n",
    "plt.style.use(\"ggplot\")\n",
    "plt.rcParams[\"figure.figsize\"] = (10, 5)\n"
   ],
   "id": "d89d3b7de1628cf8",
   "outputs": [],
   "execution_count": 1
  },
  {
   "cell_type": "code",
   "metadata": {
    "ExecuteTime": {
     "end_time": "2025-10-10T14:10:46.034338Z",
     "start_time": "2025-10-10T14:10:46.009246Z"
    }
   },
   "source": "output_root = Path(paths.OUTPUT_PATH or \"\").expanduser()\nif not output_root.is_dir():\n    raise FileNotFoundError(\"OUTPUT_PATH ist nicht gesetzt oder verweist auf kein existierendes Verzeichnis.\")\n\ncsv_path = output_root / \"bas_rvg.csv\"\nif not csv_path.is_file():\n    raise FileNotFoundError(f\"Erwartete Datei {csv_path} wurde nicht gefunden.\")\n\ndf = pd.read_csv(csv_path)\n\n# Normalize dialect naming\ndf[\"dialect_self\"] = df[\"dialect_self\"].str.replace(\"hocheutsch/süd\", \"hochdeutsch/süd\", regex=False)\n\n# Convert WER columns to numeric for both models\ndf[\"whisper_large_v3_wer\"] = pd.to_numeric(df[\"whisper_large_v3_wer\"], errors=\"coerce\")\n\n# Check if Parakeet column exists (for backward compatibility with old CSV files)\nhas_parakeet = \"parakeet_tdt_v3_wer\" in df.columns\nif has_parakeet:\n    df[\"parakeet_tdt_v3_wer\"] = pd.to_numeric(df[\"parakeet_tdt_v3_wer\"], errors=\"coerce\")\n    print(f\"✓ Beide Modelle verfügbar: Whisper Large V3 & Parakeet TDT v3\")\nelse:\n    print(\"⚠ Nur Whisper Large V3 verfügbar (Parakeet-Spalte fehlt in CSV)\")\n\nprint(f\"Anzahl Sprecher:innen: {len(df):,}\")\n\n# Display relevant columns\ndisplay_cols = [\"speaker_id\", \"dialect_self\", \"whisper_large_v3_wer\"]\nif has_parakeet:\n    display_cols.append(\"parakeet_tdt_v3_wer\")\ndf[display_cols].head()",
   "id": "f350b250d63c34c4",
   "outputs": [],
   "execution_count": null
  },
  {
   "cell_type": "code",
   "id": "beagybu4sya",
   "source": "# Vergleichende Statistiken für beide Modelle\nif has_parakeet:\n    comparison_stats = pd.DataFrame({\n        \"Whisper Large V3\": df[\"whisper_large_v3_wer\"].describe(percentiles=[0.1, 0.25, 0.5, 0.75, 0.9]),\n        \"Parakeet TDT v3\": df[\"parakeet_tdt_v3_wer\"].describe(percentiles=[0.1, 0.25, 0.5, 0.75, 0.9])\n    })\n    \n    # Fehlende Werte\n    missing_whisper = df[\"whisper_large_v3_wer\"].isna().sum()\n    missing_parakeet = df[\"parakeet_tdt_v3_wer\"].isna().sum()\n    print(f\"Fehlende WER-Werte → Whisper: {missing_whisper}, Parakeet: {missing_parakeet}\")\n    \n    comparison_stats\nelse:\n    # Nur Whisper verfügbar\n    missing = df[\"whisper_large_v3_wer\"].isna().sum()\n    print(f\"Fehlende WER-Werte: {missing}\")\n    wer_summary = df[\"whisper_large_v3_wer\"].describe(percentiles=[0.1, 0.25, 0.5, 0.75, 0.9])\n    wer_summary.to_frame(name=\"Whisper Large V3\")",
   "metadata": {},
   "execution_count": null,
   "outputs": []
  },
  {
   "cell_type": "code",
   "metadata": {
    "ExecuteTime": {
     "end_time": "2025-10-10T14:10:46.240779Z",
     "start_time": "2025-10-10T14:10:46.141757Z"
    }
   },
   "source": "if has_parakeet:\n    # Zwei Histogramme nebeneinander für direkten Vergleich\n    fig, axes = plt.subplots(1, 2, figsize=(14, 5))\n    \n    # Whisper Large V3\n    whisper_wer = df[\"whisper_large_v3_wer\"].dropna()\n    axes[0].hist(whisper_wer, bins=30, color=\"#3B82F6\", edgecolor=\"white\", alpha=0.8)\n    whisper_median = whisper_wer.median()\n    axes[0].axvline(whisper_median, color=\"#EF4444\", linestyle=\"--\", linewidth=2, label=f\"Median = {whisper_median:.3f}\")\n    axes[0].set_xlabel(\"Word Error Rate (WER)\")\n    axes[0].set_ylabel(\"Anzahl Sprecher:innen\")\n    axes[0].set_title(\"Whisper Large V3\")\n    axes[0].legend()\n    \n    # Parakeet TDT v3\n    parakeet_wer = df[\"parakeet_tdt_v3_wer\"].dropna()\n    axes[1].hist(parakeet_wer, bins=30, color=\"#10B981\", edgecolor=\"white\", alpha=0.8)\n    parakeet_median = parakeet_wer.median()\n    axes[1].axvline(parakeet_median, color=\"#EF4444\", linestyle=\"--\", linewidth=2, label=f\"Median = {parakeet_median:.3f}\")\n    axes[1].set_xlabel(\"Word Error Rate (WER)\")\n    axes[1].set_ylabel(\"Anzahl Sprecher:innen\")\n    axes[1].set_title(\"Parakeet TDT v3\")\n    axes[1].legend()\n    \n    fig.suptitle(\"WER-Verteilung im BAS-RVG1 Korpus: Whisper vs. Parakeet\", fontsize=14, y=1.02)\n    plt.tight_layout()\nelse:\n    # Nur Whisper verfügbar (Fallback)\n    fig, ax = plt.subplots(figsize=(10, 4))\n    wer_values = df[\"whisper_large_v3_wer\"].dropna()\n    ax.hist(wer_values, bins=30, color=\"#3B82F6\", edgecolor=\"white\")\n    median_wer = wer_values.median()\n    ax.axvline(median_wer, color=\"#EF4444\", linestyle=\"--\", label=f\"Median = {median_wer:.3f}\")\n    ax.set_xlabel(\"Word Error Rate (WER)\")\n    ax.set_ylabel(\"Anzahl Sprecher:innen\")\n    ax.set_title(\"Verteilung der Whisper-Large-V3 WER im BAS-RVG1 Korpus\")\n    ax.legend()\n    plt.tight_layout()",
   "id": "28240349bb461417",
   "outputs": [],
   "execution_count": null
  },
  {
   "cell_type": "code",
   "id": "tvw86qtmxnl",
   "source": "if has_parakeet:\n    # Direkter Vergleich: Scatter-Plot Whisper vs. Parakeet\n    fig, ax = plt.subplots(figsize=(8, 8))\n    \n    # Nur gültige Paare (beide Werte vorhanden)\n    comparison_df = df[[\"whisper_large_v3_wer\", \"parakeet_tdt_v3_wer\"]].dropna()\n    \n    ax.scatter(comparison_df[\"whisper_large_v3_wer\"], \n               comparison_df[\"parakeet_tdt_v3_wer\"], \n               alpha=0.5, s=40, color=\"#8B5CF6\", edgecolors=\"white\", linewidth=0.5)\n    \n    # Diagonale: Perfekte Übereinstimmung\n    max_val = max(comparison_df[\"whisper_large_v3_wer\"].max(), comparison_df[\"parakeet_tdt_v3_wer\"].max())\n    ax.plot([0, max_val], [0, max_val], 'r--', linewidth=2, alpha=0.7, label=\"Perfekte Übereinstimmung\")\n    \n    # Bereiche markieren\n    ax.fill_between([0, max_val], [0, max_val], max_val, alpha=0.1, color=\"green\", label=\"Parakeet besser\")\n    ax.fill_between([0, max_val], 0, [0, max_val], alpha=0.1, color=\"blue\", label=\"Whisper besser\")\n    \n    ax.set_xlabel(\"Whisper Large V3 WER\", fontsize=12)\n    ax.set_ylabel(\"Parakeet TDT v3 WER\", fontsize=12)\n    ax.set_title(\"Direkter Vergleich: Whisper vs. Parakeet (pro Sprecher:in)\", fontsize=14)\n    ax.legend(loc=\"upper left\")\n    ax.grid(True, alpha=0.3)\n    ax.set_aspect('equal', adjustable='box')\n    \n    # Statistik anzeigen\n    whisper_better = (comparison_df[\"whisper_large_v3_wer\"] < comparison_df[\"parakeet_tdt_v3_wer\"]).sum()\n    parakeet_better = (comparison_df[\"parakeet_tdt_v3_wer\"] < comparison_df[\"whisper_large_v3_wer\"]).sum()\n    tied = (comparison_df[\"whisper_large_v3_wer\"] == comparison_df[\"parakeet_tdt_v3_wer\"]).sum()\n    \n    stats_text = f\"Whisper besser: {whisper_better} ({whisper_better/len(comparison_df)*100:.1f}%)\\n\"\n    stats_text += f\"Parakeet besser: {parakeet_better} ({parakeet_better/len(comparison_df)*100:.1f}%)\\n\"\n    stats_text += f\"Gleich: {tied}\"\n    \n    ax.text(0.98, 0.02, stats_text, transform=ax.transAxes, \n            fontsize=10, verticalalignment='bottom', horizontalalignment='right',\n            bbox=dict(boxstyle='round', facecolor='wheat', alpha=0.8))\n    \n    plt.tight_layout()\n    print(f\"Verglichene Sprecher:innen: {len(comparison_df)}\")",
   "metadata": {},
   "execution_count": null,
   "outputs": []
  },
  {
   "metadata": {},
   "cell_type": "code",
   "outputs": [],
   "execution_count": null,
   "source": [
    "DIALECT_FALLBACK = \"Unbekannt\"\n",
    "\n",
    "def normalize_dialect(value: str) -> str:\n",
    "    \"\"\"Leitet eine kompakte Dialektgruppe aus `dialect_self` ab.\"\"\"\n",
    "    if not isinstance(value, str):\n",
    "        return DIALECT_FALLBACK\n",
    "    cleaned = re.sub(r\"\\(.*?\\)\", \"\", value)\n",
    "    primary = re.split(r\"[\\\\/.,;]\", cleaned)[0]\n",
    "    primary = re.sub(r\"[^0-9A-Za-zÄÖÜäöüß]+\", \" \", primary)\n",
    "    primary = primary.strip()\n",
    "    if not primary:\n",
    "        return DIALECT_FALLBACK\n",
    "    normalized = primary.lower()\n",
    "    normalized = normalized.replace(\"ae\", \"ä\").replace(\"oe\", \"ö\").replace(\"ue\", \"ü\")\n",
    "    return normalized.title()\n",
    "\n",
    "df[\"dialect_group\"] = df[\"dialect_self\"].apply(normalize_dialect)\n",
    "df[[\"dialect_self\", \"dialect_group\"]].head(10)\n"
   ],
   "id": "970de65c96674f91"
  },
  {
   "metadata": {},
   "cell_type": "code",
   "outputs": [],
   "execution_count": null,
   "source": [
    "min_samples = 5\n",
    "\n",
    "if has_parakeet:\n",
    "    # Metriken für beide Modelle aggregieren\n",
    "    metrics = (\n",
    "        df.dropna(subset=[\"whisper_large_v3_wer\", \"parakeet_tdt_v3_wer\"])\n",
    "          .groupby(\"dialect_group\")\n",
    "          .agg(\n",
    "              samples=(\"whisper_large_v3_wer\", \"count\"),\n",
    "              whisper_mean=(\"whisper_large_v3_wer\", \"mean\"),\n",
    "              whisper_median=(\"whisper_large_v3_wer\", \"median\"),\n",
    "              whisper_std=(\"whisper_large_v3_wer\", \"std\"),\n",
    "              parakeet_mean=(\"parakeet_tdt_v3_wer\", \"mean\"),\n",
    "              parakeet_median=(\"parakeet_tdt_v3_wer\", \"median\"),\n",
    "              parakeet_std=(\"parakeet_tdt_v3_wer\", \"std\"),\n",
    "          )\n",
    "    )\n",
    "    \n",
    "    # Differenz berechnen (positiv = Parakeet schlechter, negativ = Parakeet besser)\n",
    "    metrics[\"wer_diff\"] = metrics[\"parakeet_mean\"] - metrics[\"whisper_mean\"]\n",
    "    metrics[\"avg_wer\"] = (metrics[\"whisper_mean\"] + metrics[\"parakeet_mean\"]) / 2\n",
    "    \n",
    "    dialect_overview = (\n",
    "        metrics.loc[metrics[\"samples\"] >= min_samples]\n",
    "        .sort_values(\"avg_wer\")\n",
    "        .round({\"whisper_mean\": 3, \"whisper_median\": 3, \"whisper_std\": 3,\n",
    "                \"parakeet_mean\": 3, \"parakeet_median\": 3, \"parakeet_std\": 3,\n",
    "                \"wer_diff\": 3, \"avg_wer\": 3})\n",
    "    )\n",
    "    \n",
    "    print(f\"Dialektgruppen mit mindestens {min_samples} Sprecher:innen: {len(dialect_overview)}\")\n",
    "    print(f\"Durchschnittliche WER-Differenz (Parakeet - Whisper): {metrics['wer_diff'].mean():.3f}\")\n",
    "    dialect_overview\n",
    "else:\n",
    "    # Nur Whisper (Fallback)\n",
    "    metrics = (\n",
    "        df.dropna(subset=[\"whisper_large_v3_wer\"])\n",
    "          .groupby(\"dialect_group\")\n",
    "          .agg(\n",
    "              samples=(\"whisper_large_v3_wer\", \"count\"),\n",
    "              mean_wer=(\"whisper_large_v3_wer\", \"mean\"),\n",
    "              median_wer=(\"whisper_large_v3_wer\", \"median\"),\n",
    "              std_wer=(\"whisper_large_v3_wer\", \"std\"),\n",
    "              wer_p25=(\"whisper_large_v3_wer\", lambda s: s.quantile(0.25)),\n",
    "              wer_p75=(\"whisper_large_v3_wer\", lambda s: s.quantile(0.75)),\n",
    "          )\n",
    "    )\n",
    "    \n",
    "    dialect_overview = (\n",
    "        metrics.loc[metrics[\"samples\"] >= min_samples]\n",
    "        .sort_values(\"mean_wer\")\n",
    "        .round({\"mean_wer\": 3, \"median_wer\": 3, \"std_wer\": 3, \"wer_p25\": 3, \"wer_p75\": 3})\n",
    "    )\n",
    "    \n",
    "    print(f\"Dialektgruppen mit mindestens {min_sPleamples} Sprecher:innen: {len(dialect_overview)}\")\n",
    "    dialect_overview"
   ],
   "id": "5f3571ddd61fce63"
  },
  {
   "metadata": {},
   "cell_type": "code",
   "outputs": [],
   "execution_count": null,
   "source": [
    "plot_df = dialect_overview\n",
    "if plot_df.empty:\n",
    "    print(\"Keine Dialektgruppen erfüllen die Mindestanzahl für die Visualisierung.\")\n",
    "elif has_parakeet:\n",
    "    # Grouped Bar Chart für beide Modelle\n",
    "    fig, ax = plt.subplots(figsize=(12, 8))\n",
    "    \n",
    "    dialects = plot_df.index\n",
    "    x = list(range(len(dialects)))\n",
    "    width = 0.35\n",
    "    \n",
    "    # Balken für beide Modelle\n",
    "    whisper_bars = ax.barh([i - width/2 for i in x], plot_df[\"whisper_mean\"], \n",
    "                            height=width, color=\"#3B82F6\", alpha=0.8, label=\"Whisper Large V3\")\n",
    "    parakeet_bars = ax.barh([i + width/2 for i in x], plot_df[\"parakeet_mean\"], \n",
    "                             height=width, color=\"#10B981\", alpha=0.8, label=\"Parakeet TDT v3\")\n",
    "    \n",
    "    # Sample-Zahlen anzeigen\n",
    "    for i, (w_mean, p_mean, samples) in enumerate(zip(plot_df[\"whisper_mean\"], \n",
    "                                                        plot_df[\"parakeet_mean\"], \n",
    "                                                        plot_df[\"samples\"])):\n",
    "        max_val = max(w_mean, p_mean)\n",
    "        ax.text(max_val + 0.01, i, f\"n={samples}\", va=\"center\", fontsize=9)\n",
    "    \n",
    "    ax.set_yticks(x)\n",
    "    ax.set_yticklabels(dialects)\n",
    "    ax.set_xlabel(\"Word Error Rate (Mittelwert)\", fontsize=11)\n",
    "    ax.set_title(\"Durchschnittliche WER je Dialektgruppe: Whisper vs. Parakeet\", fontsize=13)\n",
    "    ax.invert_yaxis()\n",
    "    ax.legend(loc=\"lower right\")\n",
    "    ax.grid(axis='x', alpha=0.3)\n",
    "    plt.tight_layout()\n",
    "else:\n",
    "    # Nur Whisper (Fallback)\n",
    "    fig, ax = plt.subplots(figsize=(10, 6))\n",
    "    y_positions = list(range(len(plot_df)))\n",
    "    ax.barh(y_positions, plot_df[\"mean_wer\"], color=\"#2563EB\", alpha=0.8, label=\"Mittelwert\")\n",
    "    for idx, (lower, upper) in enumerate(zip(plot_df[\"wer_p25\"], plot_df[\"wer_p75\"])):\n",
    "        ax.hlines(idx, lower, upper, color=\"#F97316\", linewidth=4, label=\"IQR\" if idx == 0 else \"\")\n",
    "    for idx, (mean, samples) in enumerate(zip(plot_df[\"mean_wer\"], plot_df[\"samples\"])):\n",
    "        ax.text(mean + 0.005, idx, f\"n={samples}\", va=\"center\", fontsize=9)\n",
    "    ax.set_yticks(y_positions)\n",
    "    ax.set_yticklabels(plot_df.index)\n",
    "    ax.set_xlabel(\"Word Error Rate\")\n",
    "    ax.set_title(\"Durchschnittliche WER je Dialektgruppe (IQR als Linie)\")\n",
    "    ax.invert_yaxis()\n",
    "    ax.legend(loc=\"lower right\")\n",
    "    plt.tight_layout()"
   ],
   "id": "722115a16fbb2d56"
  },
  {
   "cell_type": "code",
   "metadata": {
    "ExecuteTime": {
     "end_time": "2025-10-10T14:10:46.616447Z",
     "start_time": "2025-10-10T14:10:46.535883Z"
    }
   },
   "source": "top_groups = metrics.sort_values(\"samples\", ascending=False).head(8).index\nsubset = df[df[\"dialect_group\"].isin(top_groups)].copy()\n\nif subset.empty:\n    print(\"Keine ausreichenden Daten für die Boxplot-Visualisierung.\")\nelif has_parakeet:\n    # Boxplots für beide Modelle nebeneinander\n    subset[\"dialect_group\"] = pd.Categorical(subset[\"dialect_group\"], categories=top_groups, ordered=True)\n    \n    # Daten für Boxplot vorbereiten (long format)\n    whisper_data = subset[[\"dialect_group\", \"whisper_large_v3_wer\"]].copy()\n    whisper_data[\"model\"] = \"Whisper Large V3\"\n    whisper_data = whisper_data.rename(columns={\"whisper_large_v3_wer\": \"wer\"})\n    \n    parakeet_data = subset[[\"dialect_group\", \"parakeet_tdt_v3_wer\"]].copy()\n    parakeet_data[\"model\"] = \"Parakeet TDT v3\"\n    parakeet_data = parakeet_data.rename(columns={\"parakeet_tdt_v3_wer\": \"wer\"})\n    \n    combined = pd.concat([whisper_data, parakeet_data], ignore_index=True)\n    \n    fig, ax = plt.subplots(figsize=(14, 7))\n    \n    # Manueller grouped boxplot\n    positions = []\n    whisper_positions = []\n    parakeet_positions = []\n    group_width = 0.8\n    box_width = 0.35\n    \n    for i, group in enumerate(top_groups):\n        whisper_positions.append(i * 2 - box_width/2)\n        parakeet_positions.append(i * 2 + box_width/2)\n    \n    # Whisper Boxplots\n    whisper_boxdata = [subset[subset[\"dialect_group\"] == g][\"whisper_large_v3_wer\"].dropna().values \n                       for g in top_groups]\n    bp1 = ax.boxplot(whisper_boxdata, positions=whisper_positions, widths=box_width,\n                     patch_artist=True, boxprops=dict(facecolor=\"#3B82F6\", alpha=0.7),\n                     medianprops=dict(color=\"red\", linewidth=2))\n    \n    # Parakeet Boxplots\n    parakeet_boxdata = [subset[subset[\"dialect_group\"] == g][\"parakeet_tdt_v3_wer\"].dropna().values \n                        for g in top_groups]\n    bp2 = ax.boxplot(parakeet_boxdata, positions=parakeet_positions, widths=box_width,\n                     patch_artist=True, boxprops=dict(facecolor=\"#10B981\", alpha=0.7),\n                     medianprops=dict(color=\"red\", linewidth=2))\n    \n    # X-Achse konfigurieren\n    ax.set_xticks([i * 2 for i in range(len(top_groups))])\n    ax.set_xticklabels(top_groups, rotation=45, ha=\"right\")\n    ax.set_ylabel(\"Word Error Rate\")\n    ax.set_title(\"WER-Verteilung der meist vertretenen Dialektgruppen: Whisper vs. Parakeet\", fontsize=13)\n    \n    # Legende\n    from matplotlib.patches import Patch\n    legend_elements = [Patch(facecolor='#3B82F6', alpha=0.7, label='Whisper Large V3'),\n                      Patch(facecolor='#10B981', alpha=0.7, label='Parakeet TDT v3')]\n    ax.legend(handles=legend_elements, loc='upper left')\n    \n    ax.grid(axis='y', alpha=0.3)\n    plt.tight_layout()\nelse:\n    # Nur Whisper (Fallback)\n    subset[\"dialect_group\"] = pd.Categorical(subset[\"dialect_group\"], categories=top_groups, ordered=True)\n    fig, ax = plt.subplots(figsize=(10, 6))\n    subset.boxplot(column=\"whisper_large_v3_wer\", by=\"dialect_group\", ax=ax, grid=False)\n    ax.set_ylabel(\"Word Error Rate\")\n    ax.set_xlabel(\"Dialektgruppe\")\n    ax.set_title(\"WER-Verteilung der meist vertretenen Dialektgruppen\")\n    plt.suptitle(\"\")\n    plt.xticks(rotation=45, ha=\"right\")\n    plt.tight_layout()",
   "id": "cccc5c077a646ccf",
   "outputs": [],
   "execution_count": null
  },
  {
   "cell_type": "code",
   "id": "s71cfc61zsr",
   "source": "if has_parakeet:\n    # Performance-Gewinner-Analyse: Welches Modell ist bei welchem Dialekt besser?\n    winner_df = dialect_overview[[\"samples\", \"whisper_mean\", \"parakeet_mean\", \"wer_diff\"]].copy()\n    winner_df[\"winner\"] = winner_df[\"wer_diff\"].apply(\n        lambda x: \"Whisper\" if x > 0 else (\"Parakeet\" if x < 0 else \"Gleich\")\n    )\n    winner_df[\"abs_diff\"] = winner_df[\"wer_diff\"].abs()\n    \n    # Nach größter absoluter Differenz sortieren\n    winner_df_sorted = winner_df.sort_values(\"abs_diff\", ascending=False)\n    \n    print(\"=\" * 80)\n    print(\"MODELL-PERFORMANCE PRO DIALEKTGRUPPE\")\n    print(\"=\" * 80)\n    print(f\"\\nWhisper gewinnt bei: {(winner_df['winner'] == 'Whisper').sum()} Dialekten\")\n    print(f\"Parakeet gewinnt bei: {(winner_df['winner'] == 'Parakeet').sum()} Dialekten\")\n    print(f\"Unentschieden: {(winner_df['winner'] == 'Gleich').sum()} Dialekte\")\n    print(f\"\\nDurchschnittliche absolute Differenz: {winner_df['abs_diff'].mean():.3f}\")\n    print(\"\\nTop 10 größte Unterschiede:\")\n    print(winner_df_sorted[[\"whisper_mean\", \"parakeet_mean\", \"wer_diff\", \"winner\"]].head(10))\n    \n    # Visualisierung: WER-Differenz pro Dialekt\n    fig, ax = plt.subplots(figsize=(12, 8))\n    \n    dialects = winner_df_sorted.index\n    diffs = winner_df_sorted[\"wer_diff\"]\n    colors = [\"#3B82F6\" if d > 0 else \"#10B981\" for d in diffs]\n    \n    y_pos = list(range(len(dialects)))\n    ax.barh(y_pos, diffs, color=colors, alpha=0.8)\n    \n    # Null-Linie\n    ax.axvline(0, color='black', linewidth=1, linestyle='-', alpha=0.5)\n    \n    # Beschriftungen\n    ax.set_yticks(y_pos)\n    ax.set_yticklabels(dialects)\n    ax.set_xlabel(\"WER-Differenz (Parakeet - Whisper)\\n← Whisper besser | Parakeet besser →\", fontsize=11)\n    ax.set_title(\"Modell-Performance-Vergleich pro Dialektgruppe\", fontsize=14)\n    ax.invert_yaxis()\n    ax.grid(axis='x', alpha=0.3)\n    \n    # Legende\n    from matplotlib.patches import Patch\n    legend_elements = [\n        Patch(facecolor='#3B82F6', alpha=0.8, label='Whisper besser'),\n        Patch(facecolor='#10B981', alpha=0.8, label='Parakeet besser')\n    ]\n    ax.legend(handles=legend_elements, loc='lower right')\n    \n    plt.tight_layout()\n    \n    winner_df_sorted",
   "metadata": {},
   "execution_count": null,
   "outputs": []
  },
  {
   "cell_type": "markdown",
   "metadata": {},
   "source": "## Zusammenfassung & Hinweise\n\n**Methodik**\n- Die Normalisierung der Dialektangaben reduziert Schreibvarianten (z. B. `/`, Klammern, Umlaute) auf konsistente Gruppen.\n- Beide Modelle (Whisper Large V3 und Parakeet TDT v3) werden mit identischen Ground-Truth-Transkriptionen evaluiert.\n- WER-Berechnung erfolgt mit denselben Normalisierungsregeln für faire Vergleichbarkeit.\n\n**Interpretationshinweise**\n- Einzelne Sprecher:innen mit extrem hohen WER-Werten können Ausreißer darstellen und sollten für fundierte Analysen genauer geprüft werden.\n- Die Performance-Unterschiede zwischen den Modellen können dialektspezifisch sein und deuten auf unterschiedliche Trainingsdaten-Schwerpunkte hin.\n- Für feinere Analysen lassen sich die Filterparameter (`min_samples`, `top_groups`) im Notebook anpassen.\n\n**Modellvergleich**\n- Die Scatter-Plot-Analyse zeigt sprecher-spezifische Performance-Unterschiede zwischen Whisper und Parakeet.\n- Die WER-Differenz-Visualisierung identifiziert Dialektgruppen, bei denen ein Modell besonders stark oder schwach abschneidet.\n- Durchschnittswerte pro Dialektgruppe berücksichtigen mindestens 5 Sprecher:innen zur statistischen Robustheit.",
   "id": "a96d2363ea5530d4"
  }
 ],
 "metadata": {
  "kernelspec": {
   "display_name": "Python 3",
   "language": "python",
   "name": "python3"
  },
  "language_info": {
   "name": "python",
   "version": "3.11",
   "mimetype": "text/x-python",
   "codemirror_mode": {
    "name": "ipython",
    "version": 3
   },
   "pygments_lexer": "ipython3",
   "nbconvert_exporter": "python",
   "file_extension": ".py"
  }
 },
 "nbformat": 4,
 "nbformat_minor": 5
}
