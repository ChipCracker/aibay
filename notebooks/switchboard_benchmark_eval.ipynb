{
 "cells": [
  {
   "cell_type": "markdown",
   "id": "2fbe5131",
   "metadata": {},
   "source": [
    "# Switchboard Benchmark – Evaluation\n",
    "\n",
    "Analyse der ASR-Ergebnisse für den Mod9 Switchboard Benchmark basierend auf den generierten CSV-Outputs."
   ]
  },
  {
   "cell_type": "markdown",
   "id": "5f8a78f8",
   "metadata": {},
   "source": [
    "## Voraussetzungen\n",
    "- `load_dotenv()` lädt die Pfade aus `.env` (insbesondere `OUTPUT_PATH`).\n",
    "- Führe zuvor `python main.py switchboard_benchmark --model whisper` (und optional `--model parakeet`) aus.\n",
    "- Die resultierenden CSV-Dateien werden im Ordner `outputs/` oder dem in `OUTPUT_PATH` angegebenen Verzeichnis erwartet."
   ]
  },
  {
   "cell_type": "code",
   "id": "28f15ada",
   "metadata": {
    "ExecuteTime": {
     "end_time": "2025-10-30T17:53:40.700290Z",
     "start_time": "2025-10-30T17:53:40.632386Z"
    }
   },
   "source": [
    "from __future__ import annotations\n",
    "\n",
    "from pathlib import Path\n",
    "import pandas as pd\n",
    "import seaborn as sns\n",
    "import matplotlib.pyplot as plt\n",
    "from dotenv import load_dotenv\n",
    "import paths\n",
    "\n",
    "load_dotenv()\n",
    "sns.set_theme(style='whitegrid')\n",
    "\n",
    "DATASET = 'switchboard_benchmark'\n",
    "output_root = Path(paths.OUTPUT_PATH or 'outputs').expanduser()\n",
    "if not output_root.is_dir():\n",
    "    raise FileNotFoundError('OUTPUT_PATH ist nicht gesetzt oder verweist auf kein existierendes Verzeichnis.')\n",
    "\n",
    "csv_path = output_root / f'{DATASET}.csv'\n",
    "print(f'CSV Pfad: {csv_path}')\n",
    "if not csv_path.is_file():\n",
    "    raise FileNotFoundError(f'Datei nicht gefunden: {csv_path}')\n",
    "\n",
    "df = pd.read_csv(csv_path)\n",
    "print(f'Zeilen: {len(df):,}, Spalten: {len(df.columns)}')\n",
    "df.head()"
   ],
   "outputs": [
    {
     "name": "stdout",
     "output_type": "stream",
     "text": [
      "CSV Pfad: /Volumes/T7 Touch/Experimente/aibay/switchboard_benchmark.csv\n",
      "Zeilen: 40, Spalten: 15\n"
     ]
    },
    {
     "data": {
      "text/plain": [
       "  conversation_id channel speaker_id  \\\n",
       "0         sw_4390       A  sw_4390_A   \n",
       "1         sw_4390       B  sw_4390_B   \n",
       "2         sw_4484       A  sw_4484_A   \n",
       "3         sw_4484       B  sw_4484_B   \n",
       "4         sw_4507       A  sw_4507_A   \n",
       "\n",
       "                                          audio_path  segment_count  \\\n",
       "0  /nfs/scratch/students/witzlch88229/data/mod9_s...             42   \n",
       "1  /nfs/scratch/students/witzlch88229/data/mod9_s...             41   \n",
       "2  /nfs/scratch/students/witzlch88229/data/mod9_s...             47   \n",
       "3  /nfs/scratch/students/witzlch88229/data/mod9_s...             33   \n",
       "4  /nfs/scratch/students/witzlch88229/data/mod9_s...             52   \n",
       "\n",
       "   duration_s                                   gt_transcription  \\\n",
       "0      296.47  on well currently it i li actually live in vir...   \n",
       "1      297.21  all right jeff well what do you think of capit...   \n",
       "2      298.63  you don't have any children yet well i have th...   \n",
       "3      290.29  okay i personally don't know a whole lot i'm i...   \n",
       "4      297.19  right umhum uhhuh well we have a budget we get...   \n",
       "\n",
       "                                gt_transcription_raw  \\\n",
       "0  (ON) WELL (%HESITATION) CURRENTLY (IT-) I (LI-...   \n",
       "1  ALL RIGHT JEFF WELL (%HESITATION) WHAT DO YOU ...   \n",
       "2  YOU DON'T HAVE ANY CHILDREN YET WELL I HAVE TH...   \n",
       "3  OKAY (%HESITATION) I PERSONALLY DON'T KNOW A W...   \n",
       "4  RIGHT UM-HUM UH-HUH (%HESITATION) WELL WE HAVE...   \n",
       "\n",
       "                                            segments  \\\n",
       "0  [{'start': 0.0, 'end': 0.82, 'label': '<O>', '...   \n",
       "1  [{'start': 0.0, 'end': 3.74, 'label': '<O>', '...   \n",
       "2  [{'start': 5.49, 'end': 7.73, 'label': '<O>', ...   \n",
       "3  [{'start': 0.41, 'end': 6.26, 'label': '<O>', ...   \n",
       "4  [{'start': 0.0, 'end': 2.47, 'label': '<O>', '...   \n",
       "\n",
       "                      whisper_large_v3_transcription  \\\n",
       "0  on? Well, currently, I actually live in Virgin...   \n",
       "1  All right, Jeff. Well, what do you think of ca...   \n",
       "2  You don't have any children yet. Well, I have ...   \n",
       "3  Okay, I personally don't know a whole lot. I'm...   \n",
       "4  Well, we have a budget. We get paid every two ...   \n",
       "\n",
       "                           whisper_large_v3_segments  whisper_large_v3_wer  \\\n",
       "0  [{'timestamp': (0.0, 8.98), 'text': ' on? Well...              0.155763   \n",
       "1  [{'timestamp': (0.0, 2.96), 'text': ' All righ...              0.247098   \n",
       "2  [{'timestamp': (0.0, 265.08), 'text': \" You do...              0.136247   \n",
       "3  [{'timestamp': (0.0, 3.28), 'text': \" Okay, I ...              0.333333   \n",
       "4  [{'timestamp': (0.0, 45.86), 'text': \" Well, w...              0.116613   \n",
       "\n",
       "                       parakeet_tdt_v3_transcription  \\\n",
       "0  Well, um currently I I actually live in Virgin...   \n",
       "1  All righty, Jeff. Well, uh what do you think o...   \n",
       "2  You don't have any children yet. Well, I have ...   \n",
       "3  Okay, um I'm not so many I'm I'm twenty-one ye...   \n",
       "4  Uhhuh. Um, well we have a budget. Um, we get p...   \n",
       "\n",
       "                            parakeet_tdt_v3_segments  parakeet_tdt_v3_wer  \n",
       "0  [{'segment': 'Well, um currently I I actually ...             0.227414  \n",
       "1  [{'segment': 'All righty, Jeff.', 'start_offse...             0.137645  \n",
       "2  [{'segment': \"You don't have any children yet....             0.044987  \n",
       "3  [{'segment': \"Okay, um I'm not so many I'm I'm...             0.624113  \n",
       "4  [{'segment': 'Uhhuh.', 'start_offset': 87, 'en...             0.092652  "
      ],
      "text/html": [
       "<div>\n",
       "<style scoped>\n",
       "    .dataframe tbody tr th:only-of-type {\n",
       "        vertical-align: middle;\n",
       "    }\n",
       "\n",
       "    .dataframe tbody tr th {\n",
       "        vertical-align: top;\n",
       "    }\n",
       "\n",
       "    .dataframe thead th {\n",
       "        text-align: right;\n",
       "    }\n",
       "</style>\n",
       "<table border=\"1\" class=\"dataframe\">\n",
       "  <thead>\n",
       "    <tr style=\"text-align: right;\">\n",
       "      <th></th>\n",
       "      <th>conversation_id</th>\n",
       "      <th>channel</th>\n",
       "      <th>speaker_id</th>\n",
       "      <th>audio_path</th>\n",
       "      <th>segment_count</th>\n",
       "      <th>duration_s</th>\n",
       "      <th>gt_transcription</th>\n",
       "      <th>gt_transcription_raw</th>\n",
       "      <th>segments</th>\n",
       "      <th>whisper_large_v3_transcription</th>\n",
       "      <th>whisper_large_v3_segments</th>\n",
       "      <th>whisper_large_v3_wer</th>\n",
       "      <th>parakeet_tdt_v3_transcription</th>\n",
       "      <th>parakeet_tdt_v3_segments</th>\n",
       "      <th>parakeet_tdt_v3_wer</th>\n",
       "    </tr>\n",
       "  </thead>\n",
       "  <tbody>\n",
       "    <tr>\n",
       "      <th>0</th>\n",
       "      <td>sw_4390</td>\n",
       "      <td>A</td>\n",
       "      <td>sw_4390_A</td>\n",
       "      <td>/nfs/scratch/students/witzlch88229/data/mod9_s...</td>\n",
       "      <td>42</td>\n",
       "      <td>296.47</td>\n",
       "      <td>on well currently it i li actually live in vir...</td>\n",
       "      <td>(ON) WELL (%HESITATION) CURRENTLY (IT-) I (LI-...</td>\n",
       "      <td>[{'start': 0.0, 'end': 0.82, 'label': '&lt;O&gt;', '...</td>\n",
       "      <td>on? Well, currently, I actually live in Virgin...</td>\n",
       "      <td>[{'timestamp': (0.0, 8.98), 'text': ' on? Well...</td>\n",
       "      <td>0.155763</td>\n",
       "      <td>Well, um currently I I actually live in Virgin...</td>\n",
       "      <td>[{'segment': 'Well, um currently I I actually ...</td>\n",
       "      <td>0.227414</td>\n",
       "    </tr>\n",
       "    <tr>\n",
       "      <th>1</th>\n",
       "      <td>sw_4390</td>\n",
       "      <td>B</td>\n",
       "      <td>sw_4390_B</td>\n",
       "      <td>/nfs/scratch/students/witzlch88229/data/mod9_s...</td>\n",
       "      <td>41</td>\n",
       "      <td>297.21</td>\n",
       "      <td>all right jeff well what do you think of capit...</td>\n",
       "      <td>ALL RIGHT JEFF WELL (%HESITATION) WHAT DO YOU ...</td>\n",
       "      <td>[{'start': 0.0, 'end': 3.74, 'label': '&lt;O&gt;', '...</td>\n",
       "      <td>All right, Jeff. Well, what do you think of ca...</td>\n",
       "      <td>[{'timestamp': (0.0, 2.96), 'text': ' All righ...</td>\n",
       "      <td>0.247098</td>\n",
       "      <td>All righty, Jeff. Well, uh what do you think o...</td>\n",
       "      <td>[{'segment': 'All righty, Jeff.', 'start_offse...</td>\n",
       "      <td>0.137645</td>\n",
       "    </tr>\n",
       "    <tr>\n",
       "      <th>2</th>\n",
       "      <td>sw_4484</td>\n",
       "      <td>A</td>\n",
       "      <td>sw_4484_A</td>\n",
       "      <td>/nfs/scratch/students/witzlch88229/data/mod9_s...</td>\n",
       "      <td>47</td>\n",
       "      <td>298.63</td>\n",
       "      <td>you don't have any children yet well i have th...</td>\n",
       "      <td>YOU DON'T HAVE ANY CHILDREN YET WELL I HAVE TH...</td>\n",
       "      <td>[{'start': 5.49, 'end': 7.73, 'label': '&lt;O&gt;', ...</td>\n",
       "      <td>You don't have any children yet. Well, I have ...</td>\n",
       "      <td>[{'timestamp': (0.0, 265.08), 'text': \" You do...</td>\n",
       "      <td>0.136247</td>\n",
       "      <td>You don't have any children yet. Well, I have ...</td>\n",
       "      <td>[{'segment': \"You don't have any children yet....</td>\n",
       "      <td>0.044987</td>\n",
       "    </tr>\n",
       "    <tr>\n",
       "      <th>3</th>\n",
       "      <td>sw_4484</td>\n",
       "      <td>B</td>\n",
       "      <td>sw_4484_B</td>\n",
       "      <td>/nfs/scratch/students/witzlch88229/data/mod9_s...</td>\n",
       "      <td>33</td>\n",
       "      <td>290.29</td>\n",
       "      <td>okay i personally don't know a whole lot i'm i...</td>\n",
       "      <td>OKAY (%HESITATION) I PERSONALLY DON'T KNOW A W...</td>\n",
       "      <td>[{'start': 0.41, 'end': 6.26, 'label': '&lt;O&gt;', ...</td>\n",
       "      <td>Okay, I personally don't know a whole lot. I'm...</td>\n",
       "      <td>[{'timestamp': (0.0, 3.28), 'text': \" Okay, I ...</td>\n",
       "      <td>0.333333</td>\n",
       "      <td>Okay, um I'm not so many I'm I'm twenty-one ye...</td>\n",
       "      <td>[{'segment': \"Okay, um I'm not so many I'm I'm...</td>\n",
       "      <td>0.624113</td>\n",
       "    </tr>\n",
       "    <tr>\n",
       "      <th>4</th>\n",
       "      <td>sw_4507</td>\n",
       "      <td>A</td>\n",
       "      <td>sw_4507_A</td>\n",
       "      <td>/nfs/scratch/students/witzlch88229/data/mod9_s...</td>\n",
       "      <td>52</td>\n",
       "      <td>297.19</td>\n",
       "      <td>right umhum uhhuh well we have a budget we get...</td>\n",
       "      <td>RIGHT UM-HUM UH-HUH (%HESITATION) WELL WE HAVE...</td>\n",
       "      <td>[{'start': 0.0, 'end': 2.47, 'label': '&lt;O&gt;', '...</td>\n",
       "      <td>Well, we have a budget. We get paid every two ...</td>\n",
       "      <td>[{'timestamp': (0.0, 45.86), 'text': \" Well, w...</td>\n",
       "      <td>0.116613</td>\n",
       "      <td>Uhhuh. Um, well we have a budget. Um, we get p...</td>\n",
       "      <td>[{'segment': 'Uhhuh.', 'start_offset': 87, 'en...</td>\n",
       "      <td>0.092652</td>\n",
       "    </tr>\n",
       "  </tbody>\n",
       "</table>\n",
       "</div>"
      ]
     },
     "execution_count": 1,
     "metadata": {},
     "output_type": "execute_result"
    }
   ],
   "execution_count": 1
  },
  {
   "cell_type": "markdown",
   "id": "8125fbfc",
   "metadata": {},
   "source": [
    "## Modell- und Referenzspalten\n",
    "Liste aller verfügbaren Transkript- und WER-Spalten zur Orientierung."
   ]
  },
  {
   "cell_type": "code",
   "id": "406f9717",
   "metadata": {
    "ExecuteTime": {
     "end_time": "2025-10-30T17:53:40.755837Z",
     "start_time": "2025-10-30T17:53:40.753920Z"
    }
   },
   "source": [
    "wer_columns = [col for col in df.columns if col.endswith('_wer')]\n",
    "transcript_columns = [col for col in df.columns if col.endswith('_transcription')]\n",
    "print('Transcriptions:', transcript_columns)\n",
    "print('WER columns:', wer_columns)"
   ],
   "outputs": [
    {
     "name": "stdout",
     "output_type": "stream",
     "text": [
      "Transcriptions: ['gt_transcription', 'whisper_large_v3_transcription', 'parakeet_tdt_v3_transcription']\n",
      "WER columns: ['whisper_large_v3_wer', 'parakeet_tdt_v3_wer']\n"
     ]
    }
   ],
   "execution_count": 2
  },
  {
   "cell_type": "markdown",
   "id": "2443751a",
   "metadata": {},
   "source": [
    "## Grundlegende WER-Statistiken\n",
    "Zeigt Mittelwert, Median und Standardabweichung je vorhandener Modellspalte."
   ]
  },
  {
   "cell_type": "code",
   "id": "9f118bda",
   "metadata": {
    "ExecuteTime": {
     "end_time": "2025-10-30T17:53:40.809030Z",
     "start_time": "2025-10-30T17:53:40.803634Z"
    }
   },
   "source": [
    "stats = {}\n",
    "for col in wer_columns:\n",
    "    stats[col] = {\n",
    "        'mean': df[col].mean(),\n",
    "        'median': df[col].median(),\n",
    "        'std': df[col].std(),\n",
    "        'min': df[col].min(),\n",
    "        'max': df[col].max(),\n",
    "    }\n",
    "pd.DataFrame(stats).T"
   ],
   "outputs": [
    {
     "data": {
      "text/plain": [
       "                          mean    median       std       min       max\n",
       "whisper_large_v3_wer  0.220080  0.195622  0.125436  0.054598  0.767654\n",
       "parakeet_tdt_v3_wer   0.181093  0.135366  0.141135  0.044987  0.710706"
      ],
      "text/html": [
       "<div>\n",
       "<style scoped>\n",
       "    .dataframe tbody tr th:only-of-type {\n",
       "        vertical-align: middle;\n",
       "    }\n",
       "\n",
       "    .dataframe tbody tr th {\n",
       "        vertical-align: top;\n",
       "    }\n",
       "\n",
       "    .dataframe thead th {\n",
       "        text-align: right;\n",
       "    }\n",
       "</style>\n",
       "<table border=\"1\" class=\"dataframe\">\n",
       "  <thead>\n",
       "    <tr style=\"text-align: right;\">\n",
       "      <th></th>\n",
       "      <th>mean</th>\n",
       "      <th>median</th>\n",
       "      <th>std</th>\n",
       "      <th>min</th>\n",
       "      <th>max</th>\n",
       "    </tr>\n",
       "  </thead>\n",
       "  <tbody>\n",
       "    <tr>\n",
       "      <th>whisper_large_v3_wer</th>\n",
       "      <td>0.220080</td>\n",
       "      <td>0.195622</td>\n",
       "      <td>0.125436</td>\n",
       "      <td>0.054598</td>\n",
       "      <td>0.767654</td>\n",
       "    </tr>\n",
       "    <tr>\n",
       "      <th>parakeet_tdt_v3_wer</th>\n",
       "      <td>0.181093</td>\n",
       "      <td>0.135366</td>\n",
       "      <td>0.141135</td>\n",
       "      <td>0.044987</td>\n",
       "      <td>0.710706</td>\n",
       "    </tr>\n",
       "  </tbody>\n",
       "</table>\n",
       "</div>"
      ]
     },
     "execution_count": 3,
     "metadata": {},
     "output_type": "execute_result"
    }
   ],
   "execution_count": 3
  },
  {
   "cell_type": "code",
   "id": "0670741f",
   "metadata": {
    "ExecuteTime": {
     "end_time": "2025-10-30T17:53:40.933342Z",
     "start_time": "2025-10-30T17:53:40.883024Z"
    }
   },
   "source": [
    "if not wer_columns:\n",
    "    print(\"⚠ No WER columns available; skipped LaTeX export.\")\n",
    "else:\n",
    "    model_display = {\n",
    "        \"whisper_large_v3_wer\": \"Whisper Large V3\",\n",
    "        \"parakeet_tdt_v3_wer\": \"Parakeet TDT v3\",\n",
    "    }\n",
    "    rows: list[dict[str, float | int | str]] = []\n",
    "    for col in wer_columns:\n",
    "        series = df[col].dropna()\n",
    "        if series.empty:\n",
    "            continue\n",
    "        model_name = model_display.get(col)\n",
    "        if not model_name:\n",
    "            model_name = col.replace(\"_wer\", \"\").replace(\"_\", \" \" ).title()\n",
    "        rows.append(\n",
    "            {\n",
    "                \"Model\": model_name,\n",
    "                \"Samples\": int(series.count()),\n",
    "                \"Mean WER (%)\": float(series.mean() * 100),\n",
    "                \"Median WER (%)\": float(series.median() * 100),\n",
    "            }\n",
    "        )\n",
    "    if not rows:\n",
    "        print(\"⚠ No valid WER values found; nothing to export.\")\n",
    "    else:\n",
    "        latex_table = (\n",
    "            pd.DataFrame(rows)\n",
    "            .sort_values(\"Mean WER (%)\")\n",
    "            .reset_index(drop=True)\n",
    "        )\n",
    "        latex_caption = (\n",
    "            \"Word Error Rates on the Switchboard benchmark show that ASR performance \"\n",
    "            \"on real conversational dialogue remains challenging.\"\n",
    "        )\n",
    "        latex_label = \"tab:switchboard_benchmark_wer\"\n",
    "        latex_output_path = output_root / \"switchboard_benchmark_wer_table.tex\"\n",
    "        latex_string = latex_table.to_latex(\n",
    "            index=False,\n",
    "            caption=latex_caption,\n",
    "            label=latex_label,\n",
    "            float_format=lambda x: f\"{x:.1f}\\\\%\",\n",
    "            column_format=\"lrrr\",\n",
    "        )\n",
    "        latex_output_path.write_text(latex_string, encoding=\"utf-8\")\n",
    "        print(f\"Saved LaTeX table to {latex_output_path}\")\n",
    "        print(\"\\n\" + latex_string)\n"
   ],
   "outputs": [
    {
     "name": "stdout",
     "output_type": "stream",
     "text": [
      "Saved LaTeX table to /Volumes/T7 Touch/Experimente/aibay/switchboard_benchmark_wer_table.tex\n",
      "\n",
      "\\begin{table}\n",
      "\\caption{Word Error Rates on the Switchboard benchmark show that ASR performance on real conversational dialogue remains challenging.}\n",
      "\\label{tab:switchboard_benchmark_wer}\n",
      "\\begin{tabular}{lrrr}\n",
      "\\toprule\n",
      "Model & Samples & Mean WER (%) & Median WER (%) \\\\\n",
      "\\midrule\n",
      "Parakeet TDT v3 & 40 & 18.1\\% & 13.5\\% \\\\\n",
      "Whisper Large V3 & 40 & 22.0\\% & 19.6\\% \\\\\n",
      "\\bottomrule\n",
      "\\end{tabular}\n",
      "\\end{table}\n",
      "\n"
     ]
    }
   ],
   "execution_count": 4
  },
  {
   "cell_type": "markdown",
   "id": "1387dd19",
   "metadata": {},
   "source": [
    "## Histogramm der WER-Verteilung\n",
    "Vergleicht die Verteilung der Modelle (falls mehrere WER-Spalten vorhanden sind)."
   ]
  },
  {
   "cell_type": "code",
   "id": "0a3b587c",
   "metadata": {
    "ExecuteTime": {
     "end_time": "2025-10-30T17:53:41.091981Z",
     "start_time": "2025-10-30T17:53:40.962329Z"
    }
   },
   "source": [
    "if wer_columns:\n",
    "    fig, ax = plt.subplots(figsize=(8, 5))\n",
    "    for col in wer_columns:\n",
    "        sns.histplot(df[col], bins=20, stat='density', kde=True, label=col, ax=ax, alpha=0.4)\n",
    "    ax.set_xlabel('WER')\n",
    "    ax.set_ylabel('Dichte')\n",
    "    ax.set_title('WER-Verteilung je Modell')\n",
    "    ax.legend()\n",
    "else:\n",
    "    print('Keine WER-Spalten gefunden.')"
   ],
   "outputs": [
    {
     "data": {
      "text/plain": [
       "<Figure size 800x500 with 1 Axes>"
      ],
      "image/png": "[encoded data removed]"
     },
     "metadata": {},
     "output_type": "display_data",
     "jetTransient": {
      "display_id": null
     }
    }
   ],
   "execution_count": 5
  },
  {
   "cell_type": "markdown",
   "id": "45c19114",
   "metadata": {},
   "source": [
    "## Gesprächs-Level Analyse\n",
    "Aggregiert die WER je Conversation/Speaker, um Ausreißer zu identifizieren."
   ]
  },
  {
   "cell_type": "code",
   "id": "55cde07a",
   "metadata": {
    "ExecuteTime": {
     "end_time": "2025-10-30T17:53:41.106838Z",
     "start_time": "2025-10-30T17:53:41.101930Z"
    }
   },
   "source": [
    "key_columns = ['conversation_id', 'speaker_id']\n",
    "available = [col for col in key_columns if col in df.columns]\n",
    "if not available:\n",
    "    print('Keine Gesprächs-IDs verfügbar.')\n",
    "else:\n",
    "    group_cols = available\n",
    "    summary = df.groupby(group_cols)[wer_columns].mean().reset_index() if wer_columns else df[group_cols]\n",
    "    summary.sort_values(wer_columns[0] if wer_columns else group_cols[0]).head()"
   ],
   "outputs": [],
   "execution_count": 6
  },
  {
   "cell_type": "code",
   "id": "def04a24",
   "metadata": {
    "ExecuteTime": {
     "end_time": "2025-10-30T17:53:41.111977Z",
     "start_time": "2025-10-30T17:53:41.110166Z"
    }
   },
   "source": [
    "if wer_columns and available:\n",
    "    worst = summary.sort_values(wer_columns[0], ascending=False).head()\n",
    "    worst"
   ],
   "outputs": [],
   "execution_count": 7
  },
  {
   "cell_type": "markdown",
   "id": "6253ab02",
   "metadata": {},
   "source": [
    "## Transcript-Spotchecks\n",
    "Vergleich Roh- und bereinigte Referenzen für Stichproben."
   ]
  },
  {
   "cell_type": "code",
   "id": "3ce4d181",
   "metadata": {
    "ExecuteTime": {
     "end_time": "2025-10-30T17:53:41.117985Z",
     "start_time": "2025-10-30T17:53:41.114757Z"
    }
   },
   "source": [
    "ref_cols = ['gt_transcription_raw', 'gt_transcription']\n",
    "existing = [col for col in ref_cols if col in df.columns]\n",
    "if existing:\n",
    "    sample = df.sample(n=3, random_state=42)[existing + transcript_columns][:3]\n",
    "    sample.T\n",
    "else:\n",
    "    print('Keine Referenzspalten gefunden.')"
   ],
   "outputs": [],
   "execution_count": 8
  }
 ],
 "metadata": {
  "kernelspec": {
   "display_name": "Python 3",
   "language": "python",
   "name": "python3"
  },
  "language_info": {
   "name": "python",
   "pygments_lexer": "ipython3"
  }
 },
 "nbformat": 4,
 "nbformat_minor": 5
}
