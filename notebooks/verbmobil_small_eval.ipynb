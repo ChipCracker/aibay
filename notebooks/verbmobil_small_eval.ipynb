{
 "cells": [
  {
   "cell_type": "markdown",
   "id": "804c5654",
   "metadata": {},
   "source": [
    "\n",
    "# Verbmobil Small – ASR Evaluation\n",
    "\n",
    "Dieses Notebook fasst die Erkennungsleistung der beiden aktuell angebundenen ASR-Pipelines über das `verbmobil_small`-Korpus zusammen. Es setzt voraus, dass du zuvor die Inferenz via\n",
    "\n",
    "```bash\n",
    "python main.py verbmobil_small --model both\n",
    "```\n",
    "\n",
    "ausgeführt hast (ggf. mit angepassten Batch-Größen), sodass die Resultate als CSV im konfigurierten `OUTPUT_PATH` vorliegen.\n"
   ]
  },
  {
   "cell_type": "markdown",
   "id": "2da2c110",
   "metadata": {},
   "source": [
    "\n",
    "## Setup & Daten laden\n",
    "\n",
    "Wir lesen die Ergebnisse aus dem `OUTPUT_PATH` (oder dem Standardordner `outputs/`), prüfen die wichtigsten Spalten und verschaffen uns einen ersten Überblick über die Datenmenge.\n"
   ]
  },
  {
   "cell_type": "code",
   "id": "b03e8734",
   "metadata": {
    "ExecuteTime": {
     "end_time": "2025-10-30T18:12:09.251085Z",
     "start_time": "2025-10-30T18:12:09.096044Z"
    }
   },
   "source": [
    "\n",
    "from __future__ import annotations\n",
    "\n",
    "import os\n",
    "from pathlib import Path\n",
    "from typing import Final\n",
    "\n",
    "import matplotlib.pyplot as plt\n",
    "import numpy as np\n",
    "import pandas as pd\n",
    "import seaborn as sns\n",
    "from dotenv import load_dotenv\n",
    "\n",
    "sns.set_theme(style=\"whitegrid\")\n",
    "load_dotenv()\n",
    "\n",
    "OUTPUT_PATH = os.getenv(\"OUTPUT_PATH\")\n",
    "OUTPUT_DIR: Final[Path] = Path(OUTPUT_PATH) if OUTPUT_PATH else Path(\"outputs\")\n",
    "DATASET_CSV: Final[Path] = OUTPUT_DIR / \"verbmobil_small.csv\"\n",
    "\n",
    "print(f\"OUTPUT_DIR: {OUTPUT_DIR}\")\n",
    "print(f\"CSV-Datei: {DATASET_CSV}\")\n",
    "\n",
    "if not DATASET_CSV.is_file():\n",
    "    raise FileNotFoundError(\n",
    "        \"Keine Verbmobil-Ergebnisse gefunden. Führe zuerst `python main.py verbmobil_small --model both` aus \"\n",
    "        \"oder passe den Pfad an.\"\n",
    "    )\n",
    "\n",
    "raw_df = pd.read_csv(DATASET_CSV)\n",
    "raw_df.head()\n"
   ],
   "outputs": [
    {
     "name": "stdout",
     "output_type": "stream",
     "text": [
      "OUTPUT_DIR: /Volumes/T7 Touch/Experimente/aibay\n",
      "CSV-Datei: /Volumes/T7 Touch/Experimente/aibay/verbmobil_small.csv\n"
     ]
    },
    {
     "data": {
      "text/plain": [
       "     utterance_id conversation_id speaker_code  turn_index channel  \\\n",
       "0  1G071A:HAH001A          1G071A          HAH         1.0       A   \n",
       "1  1G071A:HAH003A          1G071A          HAH         3.0       A   \n",
       "2  1G071A:HAH005A          1G071A          HAH         5.0       A   \n",
       "3  1G071A:HAH007A          1G071A          HAH         7.0       A   \n",
       "4  1G071A:HAH009A          1G071A          HAH         9.0       A   \n",
       "\n",
       "                                  audio_path  \\\n",
       "0  /nfs/data/VM_base/DATA/SSG/1G071A:HAH001A   \n",
       "1  /nfs/data/VM_base/DATA/SSG/1G071A:HAH003A   \n",
       "2  /nfs/data/VM_base/DATA/SSG/1G071A:HAH005A   \n",
       "3  /nfs/data/VM_base/DATA/SSG/1G071A:HAH007A   \n",
       "4  /nfs/data/VM_base/DATA/SSG/1G071A:HAH009A   \n",
       "\n",
       "                                    gt_transcription  \\\n",
       "0  ja also für den eintägigen wenn wir den als er...   \n",
       "1  ja am ersten ist Allerheiligen da ist wohl nic...   \n",
       "2  nee da muß ich leider zu einem Treffen nach Kö...   \n",
       "3  ja bitte das wäre mir sehr recht wenn ich 'ne ...   \n",
       "4  gut dann hätten wir noch mal ein zweitägiges T...   \n",
       "\n",
       "                                gt_transcription_raw  \\\n",
       "0  ja also f\"ur den eint\"agigen wenn_wir den als ...   \n",
       "1  ja am ersten ist Allerheiligen da ist wohl nic...   \n",
       "2  nee da mu\"s ich_leider zu einem Treffen nach K...   \n",
       "3  ja bitte das_w\"are mir_sehr recht wenn ich 'ne...   \n",
       "4  gut dann h\"atten wir noch mal ein zweit\"agiges...   \n",
       "\n",
       "                      whisper_large_v3_transcription  \\\n",
       "0  Ja, also für den Eintägigen, wenn wir den als ...   \n",
       "1  Ja, am 1. ist Allerheiligen, da ist wohl nicht...   \n",
       "2  Nee, da muss ich leider zu einem Treffen nach ...   \n",
       "3  Ja, bitte, das wäre mir sehr recht. Wenn ich e...   \n",
       "4  Gut, dann hätten wir noch mal ein zweitägiges ...   \n",
       "\n",
       "                           whisper_large_v3_segments  whisper_large_v3_wer  \n",
       "0  [{'timestamp': (0.0, 7.52), 'text': ' Ja, also...              0.047619  \n",
       "1  [{'timestamp': (0.0, 6.68), 'text': ' Ja, am 1...              0.136364  \n",
       "2  [{'timestamp': (0.0, 1.86), 'text': ' Nee, da ...              0.114286  \n",
       "3  [{'timestamp': (0.0, 7.08), 'text': ' Ja, bitt...             10.440000  \n",
       "4  [{'timestamp': (0.0, 14.16), 'text': ' Gut, da...              0.190476  "
      ],
      "text/html": [
       "<div>\n",
       "<style scoped>\n",
       "    .dataframe tbody tr th:only-of-type {\n",
       "        vertical-align: middle;\n",
       "    }\n",
       "\n",
       "    .dataframe tbody tr th {\n",
       "        vertical-align: top;\n",
       "    }\n",
       "\n",
       "    .dataframe thead th {\n",
       "        text-align: right;\n",
       "    }\n",
       "</style>\n",
       "<table border=\"1\" class=\"dataframe\">\n",
       "  <thead>\n",
       "    <tr style=\"text-align: right;\">\n",
       "      <th></th>\n",
       "      <th>utterance_id</th>\n",
       "      <th>conversation_id</th>\n",
       "      <th>speaker_code</th>\n",
       "      <th>turn_index</th>\n",
       "      <th>channel</th>\n",
       "      <th>audio_path</th>\n",
       "      <th>gt_transcription</th>\n",
       "      <th>gt_transcription_raw</th>\n",
       "      <th>whisper_large_v3_transcription</th>\n",
       "      <th>whisper_large_v3_segments</th>\n",
       "      <th>whisper_large_v3_wer</th>\n",
       "    </tr>\n",
       "  </thead>\n",
       "  <tbody>\n",
       "    <tr>\n",
       "      <th>0</th>\n",
       "      <td>1G071A:HAH001A</td>\n",
       "      <td>1G071A</td>\n",
       "      <td>HAH</td>\n",
       "      <td>1.0</td>\n",
       "      <td>A</td>\n",
       "      <td>/nfs/data/VM_base/DATA/SSG/1G071A:HAH001A</td>\n",
       "      <td>ja also für den eintägigen wenn wir den als er...</td>\n",
       "      <td>ja also f\"ur den eint\"agigen wenn_wir den als ...</td>\n",
       "      <td>Ja, also für den Eintägigen, wenn wir den als ...</td>\n",
       "      <td>[{'timestamp': (0.0, 7.52), 'text': ' Ja, also...</td>\n",
       "      <td>0.047619</td>\n",
       "    </tr>\n",
       "    <tr>\n",
       "      <th>1</th>\n",
       "      <td>1G071A:HAH003A</td>\n",
       "      <td>1G071A</td>\n",
       "      <td>HAH</td>\n",
       "      <td>3.0</td>\n",
       "      <td>A</td>\n",
       "      <td>/nfs/data/VM_base/DATA/SSG/1G071A:HAH003A</td>\n",
       "      <td>ja am ersten ist Allerheiligen da ist wohl nic...</td>\n",
       "      <td>ja am ersten ist Allerheiligen da ist wohl nic...</td>\n",
       "      <td>Ja, am 1. ist Allerheiligen, da ist wohl nicht...</td>\n",
       "      <td>[{'timestamp': (0.0, 6.68), 'text': ' Ja, am 1...</td>\n",
       "      <td>0.136364</td>\n",
       "    </tr>\n",
       "    <tr>\n",
       "      <th>2</th>\n",
       "      <td>1G071A:HAH005A</td>\n",
       "      <td>1G071A</td>\n",
       "      <td>HAH</td>\n",
       "      <td>5.0</td>\n",
       "      <td>A</td>\n",
       "      <td>/nfs/data/VM_base/DATA/SSG/1G071A:HAH005A</td>\n",
       "      <td>nee da muß ich leider zu einem Treffen nach Kö...</td>\n",
       "      <td>nee da mu\"s ich_leider zu einem Treffen nach K...</td>\n",
       "      <td>Nee, da muss ich leider zu einem Treffen nach ...</td>\n",
       "      <td>[{'timestamp': (0.0, 1.86), 'text': ' Nee, da ...</td>\n",
       "      <td>0.114286</td>\n",
       "    </tr>\n",
       "    <tr>\n",
       "      <th>3</th>\n",
       "      <td>1G071A:HAH007A</td>\n",
       "      <td>1G071A</td>\n",
       "      <td>HAH</td>\n",
       "      <td>7.0</td>\n",
       "      <td>A</td>\n",
       "      <td>/nfs/data/VM_base/DATA/SSG/1G071A:HAH007A</td>\n",
       "      <td>ja bitte das wäre mir sehr recht wenn ich 'ne ...</td>\n",
       "      <td>ja bitte das_w\"are mir_sehr recht wenn ich 'ne...</td>\n",
       "      <td>Ja, bitte, das wäre mir sehr recht. Wenn ich e...</td>\n",
       "      <td>[{'timestamp': (0.0, 7.08), 'text': ' Ja, bitt...</td>\n",
       "      <td>10.440000</td>\n",
       "    </tr>\n",
       "    <tr>\n",
       "      <th>4</th>\n",
       "      <td>1G071A:HAH009A</td>\n",
       "      <td>1G071A</td>\n",
       "      <td>HAH</td>\n",
       "      <td>9.0</td>\n",
       "      <td>A</td>\n",
       "      <td>/nfs/data/VM_base/DATA/SSG/1G071A:HAH009A</td>\n",
       "      <td>gut dann hätten wir noch mal ein zweitägiges T...</td>\n",
       "      <td>gut dann h\"atten wir noch mal ein zweit\"agiges...</td>\n",
       "      <td>Gut, dann hätten wir noch mal ein zweitägiges ...</td>\n",
       "      <td>[{'timestamp': (0.0, 14.16), 'text': ' Gut, da...</td>\n",
       "      <td>0.190476</td>\n",
       "    </tr>\n",
       "  </tbody>\n",
       "</table>\n",
       "</div>"
      ]
     },
     "execution_count": 2,
     "metadata": {},
     "output_type": "execute_result"
    }
   ],
   "execution_count": 2
  },
  {
   "cell_type": "code",
   "id": "15a1fefc",
   "metadata": {
    "ExecuteTime": {
     "end_time": "2025-10-30T18:12:09.283685Z",
     "start_time": "2025-10-30T18:12:09.281829Z"
    }
   },
   "source": [
    "\n",
    "row_count = len(raw_df)\n",
    "present_columns = sorted(raw_df.columns)\n",
    "\n",
    "print(f\"Zeilen (Segments): {row_count:,}\")\n",
    "print(\"Verfügbare Spalten:\")\n",
    "for col in present_columns:\n",
    "    print(f\"  - {col}\")\n"
   ],
   "outputs": [
    {
     "name": "stdout",
     "output_type": "stream",
     "text": [
      "Zeilen (Segments): 15,188\n",
      "Verfügbare Spalten:\n",
      "  - audio_path\n",
      "  - channel\n",
      "  - conversation_id\n",
      "  - gt_transcription\n",
      "  - gt_transcription_raw\n",
      "  - speaker_code\n",
      "  - turn_index\n",
      "  - utterance_id\n",
      "  - whisper_large_v3_segments\n",
      "  - whisper_large_v3_transcription\n",
      "  - whisper_large_v3_wer\n"
     ]
    }
   ],
   "execution_count": 3
  },
  {
   "cell_type": "markdown",
   "id": "1e142893",
   "metadata": {},
   "source": [
    "\n",
    "## WER-Überblick\n",
    "\n",
    "Wir fokussieren uns auf die Word Error Rate (WER) der Whisper- und Parakeet-Ausgaben. Zusätzlich wird – sofern beide Modelle vorhanden sind – die Differenz betrachtet, um Stärken/Schwächen pro Segment zu identifizieren.\n"
   ]
  },
  {
   "cell_type": "code",
   "id": "b800d5ed",
   "metadata": {
    "ExecuteTime": {
     "end_time": "2025-10-30T18:12:09.327296Z",
     "start_time": "2025-10-30T18:12:09.319662Z"
    }
   },
   "source": [
    "\n",
    "WER_COLUMNS = [\n",
    "    \"whisper_large_v3_wer\",\n",
    "    \"parakeet_tdt_v3_wer\",\n",
    "]\n",
    "\n",
    "available_wer = [col for col in WER_COLUMNS if col in raw_df.columns]\n",
    "if not available_wer:\n",
    "    raise ValueError(\"Keine WER-Spalten gefunden. Stelle sicher, dass die Inferenz erfolgreich durchlief.\")\n",
    "\n",
    "summary_rows: list[dict[str, float]] = []\n",
    "for col in available_wer:\n",
    "    series = raw_df[col].dropna()\n",
    "    if series.empty:\n",
    "        continue\n",
    "    summary_rows.append(\n",
    "        {\n",
    "            \"metric\": col,\n",
    "            \"count\": int(series.count()),\n",
    "            \"mean\": float(series.mean()),\n",
    "            \"median\": float(series.median()),\n",
    "            \"std\": float(series.std()),\n",
    "            \"p10\": float(series.quantile(0.10)),\n",
    "            \"p90\": float(series.quantile(0.90)),\n",
    "            \"min\": float(series.min()),\n",
    "            \"max\": float(series.max()),\n",
    "        }\n",
    "    )\n",
    "\n",
    "wer_summary = pd.DataFrame(summary_rows)\n",
    "wer_summary\n"
   ],
   "outputs": [
    {
     "data": {
      "text/plain": [
       "                 metric  count      mean  median       std  p10   p90  min  \\\n",
       "0  whisper_large_v3_wer  15167  4.673186  0.1875  16.62561  0.0  14.8  0.0   \n",
       "\n",
       "     max  \n",
       "0  310.0  "
      ],
      "text/html": [
       "<div>\n",
       "<style scoped>\n",
       "    .dataframe tbody tr th:only-of-type {\n",
       "        vertical-align: middle;\n",
       "    }\n",
       "\n",
       "    .dataframe tbody tr th {\n",
       "        vertical-align: top;\n",
       "    }\n",
       "\n",
       "    .dataframe thead th {\n",
       "        text-align: right;\n",
       "    }\n",
       "</style>\n",
       "<table border=\"1\" class=\"dataframe\">\n",
       "  <thead>\n",
       "    <tr style=\"text-align: right;\">\n",
       "      <th></th>\n",
       "      <th>metric</th>\n",
       "      <th>count</th>\n",
       "      <th>mean</th>\n",
       "      <th>median</th>\n",
       "      <th>std</th>\n",
       "      <th>p10</th>\n",
       "      <th>p90</th>\n",
       "      <th>min</th>\n",
       "      <th>max</th>\n",
       "    </tr>\n",
       "  </thead>\n",
       "  <tbody>\n",
       "    <tr>\n",
       "      <th>0</th>\n",
       "      <td>whisper_large_v3_wer</td>\n",
       "      <td>15167</td>\n",
       "      <td>4.673186</td>\n",
       "      <td>0.1875</td>\n",
       "      <td>16.62561</td>\n",
       "      <td>0.0</td>\n",
       "      <td>14.8</td>\n",
       "      <td>0.0</td>\n",
       "      <td>310.0</td>\n",
       "    </tr>\n",
       "  </tbody>\n",
       "</table>\n",
       "</div>"
      ]
     },
     "execution_count": 4,
     "metadata": {},
     "output_type": "execute_result"
    }
   ],
   "execution_count": 4
  },
  {
   "cell_type": "code",
   "id": "4117fa35",
   "metadata": {
    "ExecuteTime": {
     "end_time": "2025-10-30T18:12:09.526553Z",
     "start_time": "2025-10-30T18:12:09.364477Z"
    }
   },
   "source": [
    "\n",
    "plot_df = raw_df.copy()\n",
    "plot_df = plot_df.melt(\n",
    "    value_vars=[col for col in WER_COLUMNS if col in plot_df.columns],\n",
    "    var_name=\"modell\",\n",
    "    value_name=\"wer\",\n",
    ")\n",
    "plot_df = plot_df.dropna(subset=[\"wer\"])\n",
    "\n",
    "if plot_df.empty:\n",
    "    raise ValueError(\"Keine gültigen WER-Werte zum Plotten verfügbar.\")\n",
    "\n",
    "plt.figure(figsize=(12, 5))\n",
    "sns.boxplot(data=plot_df, x=\"modell\", y=\"wer\", palette=\"muted\")\n",
    "plt.title(\"Verteilung der WER pro Modell\")\n",
    "plt.ylim(0, min(1.0, plot_df[\"wer\"].max() * 1.05))\n",
    "plt.show()\n",
    "\n",
    "plt.figure(figsize=(12, 5))\n",
    "sns.histplot(data=plot_df, x=\"wer\", hue=\"modell\", element=\"step\", stat=\"density\", common_norm=False)\n",
    "plt.title(\"WER-Dichtevergleich\")\n",
    "plt.xlim(0, min(1.0, plot_df[\"wer\"].max() * 1.05))\n",
    "plt.show()\n"
   ],
   "outputs": [
    {
     "name": "stderr",
     "output_type": "stream",
     "text": [
      "/var/folders/6l/kwcycbvx6hv5sw6sz8qf8xk00000gn/T/ipykernel_66678/529239452.py:13: FutureWarning: \n",
      "\n",
      "Passing `palette` without assigning `hue` is deprecated and will be removed in v0.14.0. Assign the `x` variable to `hue` and set `legend=False` for the same effect.\n",
      "\n",
      "  sns.boxplot(data=plot_df, x=\"modell\", y=\"wer\", palette=\"muted\")\n"
     ]
    },
    {
     "data": {
      "text/plain": [
       "<Figure size 1200x500 with 1 Axes>"
      ],
      "image/png": "[encoded data removed]"
     },
     "metadata": {},
     "output_type": "display_data",
     "jetTransient": {
      "display_id": null
     }
    },
    {
     "data": {
      "text/plain": [
       "<Figure size 1200x500 with 1 Axes>"
      ],
      "image/png": "[encoded data removed]"
     },
     "metadata": {},
     "output_type": "display_data",
     "jetTransient": {
      "display_id": null
     }
    }
   ],
   "execution_count": 5
  },
  {
   "cell_type": "markdown",
   "id": "38a45c9d",
   "metadata": {},
   "source": [
    "\n",
    "## Segment-Highlights\n",
    "\n",
    "Zur Einordnung, welche Sequenzen besonders herausfordernd sind, listen wir die zehn höchsten WER-Differenzen auf. Positive Werte bedeuten, dass Parakeet schlechter als Whisper abschneidet, negative Werte deuten auf einen Vorteil für Parakeet.\n"
   ]
  },
  {
   "cell_type": "code",
   "id": "74db676f",
   "metadata": {
    "ExecuteTime": {
     "end_time": "2025-10-30T18:12:09.561930Z",
     "start_time": "2025-10-30T18:12:09.559363Z"
    }
   },
   "source": [
    "\n",
    "if \"whisper_large_v3_wer\" in raw_df.columns and \"parakeet_tdt_v3_wer\" in raw_df.columns:\n",
    "    diff_df = raw_df.dropna(subset=[\"whisper_large_v3_wer\", \"parakeet_tdt_v3_wer\"]).copy()\n",
    "    diff_df[\"wer_diff_parakeet_minus_whisper\"] = diff_df[\"parakeet_tdt_v3_wer\"] - diff_df[\"whisper_large_v3_wer\"]\n",
    "\n",
    "    highlight_columns = []\n",
    "    for candidate in (\"utterance_id\", \"conversation_id\", \"speaker_code\", \"channel\"):\n",
    "        if candidate in diff_df.columns:\n",
    "            highlight_columns.append(candidate)\n",
    "    highlight_columns.extend([\n",
    "        \"wer_diff_parakeet_minus_whisper\",\n",
    "        \"whisper_large_v3_wer\",\n",
    "        \"parakeet_tdt_v3_wer\",\n",
    "    ])\n",
    "\n",
    "    worst_segments = diff_df.nlargest(10, \"wer_diff_parakeet_minus_whisper\")[highlight_columns]\n",
    "    best_segments = diff_df.nsmallest(10, \"wer_diff_parakeet_minus_whisper\")[highlight_columns]\n",
    "\n",
    "    display(worst_segments)\n",
    "    display(best_segments)\n",
    "else:\n",
    "    print(\"Für Segmentvergleiche werden beide WER-Spalten benötigt.\")\n"
   ],
   "outputs": [
    {
     "name": "stdout",
     "output_type": "stream",
     "text": [
      "Für Segmentvergleiche werden beide WER-Spalten benötigt.\n"
     ]
    }
   ],
   "execution_count": 6
  },
  {
   "cell_type": "markdown",
   "id": "646300bd",
   "metadata": {},
   "source": [
    "\n",
    "## Weiterführende Schritte\n",
    "\n",
    "- Ergänze bei Bedarf eigene Filter (z. B. nach Sprecher*in oder Kanal) und exportiere Teilmengen zur manuellen Qualitätsprüfung.\n",
    "- Nutze `python recompute_wer.py <csv>` für aktualisierte WERs nach manuellen Transkriptanpassungen.\n",
    "- Die Batch-Parameter `--whisper-batch-size` und `--parakeet-batch-size` steuern die Geschwindigkeit der Inferenz.\n"
   ]
  }
 ],
 "metadata": {
  "kernelspec": {
   "name": "python3",
   "language": "python",
   "display_name": "Python 3 (ipykernel)"
  }
 },
 "nbformat": 4,
 "nbformat_minor": 5
}
