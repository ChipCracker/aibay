{
 "cells": [
  {
   "cell_type": "markdown",
   "id": "dffea39b",
   "metadata": {},
   "source": [
    "\n",
    "# Whisper Disfluency Evaluation\n",
    "\n",
    "Dieses Notebook analysiert die in `.env` hinterlegte *KASHAF_DISFLUENCIES*-Ablage. Dort liegen zwei Excel-Workbooks mit bereits vorhandenen Ground-Truth-Transkripten sowie Whisper-Ausgaben:\n",
    "\n",
    "- `Whisper_lora_KSoF_5_fold_only_uf_base_transcripts.xlsx`\n",
    "- `Whisper_lora_KSoF_5_fold_only_uf_finetuned_transcripts.xlsx`\n",
    "\n",
    "Jedes Workbook umfasst fünf Folds (Sheets), einmal mit einem reinen Whisper Large V3 Turbo Modell und einmal mit einem auf Dysfluencies feinabgestimmten Pendant. Ziel ist es, störende Special Tokens aus den Hypothesen zu entfernen, anschließend die Word Error Rate (WER) pro Fold zu berechnen und beide Varianten miteinander zu vergleichen.\n"
   ]
  },
  {
   "cell_type": "markdown",
   "id": "6d49ea12",
   "metadata": {},
   "source": [
    "\n",
    "## 1. Setup\n",
    "\n",
    "Lädt Standardbibliotheken, resolved Pfade aus der `.env` und prüft die Verfügbarkeit der Workbooks.\n",
    "\n",
    "> ⚠️ **Voraussetzungen**: `pandas`, `openpyxl` (für das Lesen der XLSX-Dateien) sowie `jiwer` müssen installiert sein. Wir arbeiten ausschließlich offline auf vorhandenen Excel-Dateien.\n"
   ]
  },
  {
   "cell_type": "code",
   "execution_count": 15,
   "id": "179e11b378ced4a1",
   "metadata": {
    "ExecuteTime": {
     "end_time": "2025-10-29T16:23:01.345409Z",
     "start_time": "2025-10-29T16:23:01.339483Z"
    }
   },
   "outputs": [
    {
     "data": {
      "text/plain": [
       "(PosixPath('/Volumes/T7 Touch/datasets/kashaf_disfluencies/Whisper_lora_KSoF_5_fold_only_uf_base_transcripts.xlsx'),\n",
       " PosixPath('/Volumes/T7 Touch/datasets/kashaf_disfluencies/Whisper_lora_KSoF_5_fold_only_uf_finetuned_transcripts.xlsx'))"
      ]
     },
     "execution_count": 15,
     "metadata": {},
     "output_type": "execute_result"
    }
   ],
   "source": [
    "\n",
    "from dotenv import load_dotenv\n",
    "from jiwer import wer\n",
    "import pandas as pd\n",
    "from pathlib import Path\n",
    "from typing import Dict, Iterable, List\n",
    "from dataclasses import dataclass\n",
    "import matplotlib.pyplot as plt\n",
    "import seaborn as sns\n",
    "import os\n",
    "\n",
    "load_dotenv()\n",
    "\n",
    "sns.set_theme(style=\"whitegrid\")\n",
    "\n",
    "DATA_ROOT = os.getenv(\"KASHAF_DISFLUENCIES\")\n",
    "if not DATA_ROOT:\n",
    "    raise EnvironmentError(\n",
    "        \"Umfeldvariable KASHAF_DISFLUENCIES ist nicht gesetzt. Ergänze sie in der `.env` Datei.\"\n",
    "    )\n",
    "\n",
    "DATA_ROOT = Path(DATA_ROOT)\n",
    "BASE_WORKBOOK = DATA_ROOT / \"Whisper_lora_KSoF_5_fold_only_uf_base_transcripts.xlsx\"\n",
    "FINETUNED_WORKBOOK = DATA_ROOT / \"Whisper_lora_KSoF_5_fold_only_uf_finetuned_transcripts.xlsx\"\n",
    "\n",
    "for workbook in (BASE_WORKBOOK, FINETUNED_WORKBOOK):\n",
    "    if not workbook.is_file():\n",
    "        raise FileNotFoundError(f\"Workbook fehlt: {workbook}\")\n",
    "\n",
    "BASE_WORKBOOK, FINETUNED_WORKBOOK\n"
   ]
  },
  {
   "cell_type": "markdown",
   "id": "8e9daa1e6af360ba",
   "metadata": {},
   "source": [
    "\n",
    "## 2. Hilfsfunktionen\n",
    "\n",
    "- **Spreadsheet-Lader**: ignoriert das leere Default-Sheet, liest `Fold_*`-Sheets ein und reduziert sie auf Referenz- und Whisper-Spalten.\n",
    "- **Token-Bereinigung**: entfernt Whisper-spezifische Sondertokens und Zeitmarken.\n",
    "- **WER-Helfer**: berechnet die WER pro Fold und aggregiert über das gesamte Workbook.\n"
   ]
  },
  {
   "cell_type": "code",
   "execution_count": 16,
   "id": "dc88d011b802b096",
   "metadata": {
    "ExecuteTime": {
     "end_time": "2025-10-29T16:23:01.357726Z",
     "start_time": "2025-10-29T16:23:01.350790Z"
    }
   },
   "outputs": [],
   "source": [
    "import re\n",
    "\n",
    "FOLD_PREFIX = \"fold\"\n",
    "REFERENCE_CANDIDATES = {\n",
    "    \"Reference Transcript\",\n",
    "    \"reference transcript\",\n",
    "    \"reference\",\n",
    "    \"Reference\",\n",
    "}\n",
    "HYPOTHESIS_CANDIDATES = {\n",
    "    \"Whisper Transcript\",\n",
    "    \"whisper transcript\",\n",
    "    \"prediction\",\n",
    "    \"hypothesis\",\n",
    "}\n",
    "\n",
    "SPECIAL_TOKEN_PATTERN = re.compile(r\"<\\|[^|]+\\|>\")\n",
    "TIMESTAMP_PATTERN = re.compile(r\"\\[(?:\\d{1,2}:)?\\d{1,2}:\\d{2}\\.\\d{2}\\]\")\n",
    "MULTISPACE_PATTERN = re.compile(r\"\\s+\")\n",
    "\n",
    "\n",
    "def load_fold_frames(path: Path) -> Dict[str, pd.DataFrame]:\n",
    "    xls = pd.ExcelFile(path)\n",
    "    frames: Dict[str, pd.DataFrame] = {}\n",
    "\n",
    "    for sheet in xls.sheet_names:\n",
    "        if not sheet.lower().startswith(FOLD_PREFIX):\n",
    "            continue\n",
    "        frame = pd.read_excel(xls, sheet_name=sheet)\n",
    "        if frame.empty:\n",
    "            continue\n",
    "        frame = frame.rename(columns=lambda c: str(c).strip())\n",
    "\n",
    "        ref_column = None\n",
    "        hyp_column = None\n",
    "        for column in frame.columns:\n",
    "            if column in REFERENCE_CANDIDATES:\n",
    "                ref_column = column\n",
    "            if column in HYPOTHESIS_CANDIDATES:\n",
    "                hyp_column = column\n",
    "        if ref_column is None or hyp_column is None:\n",
    "            raise KeyError(\n",
    "                f\"Erwarte Spalten für Referenz & Whisper-Transcript in Sheet '{sheet}'. Gefunden: {frame.columns.tolist()}\"\n",
    "            )\n",
    "\n",
    "        subset = frame[[ref_column, hyp_column]].rename(columns={ref_column: \"reference\", hyp_column: \"hypothesis\"})\n",
    "        subset = subset.dropna(subset=[\"reference\", \"hypothesis\"])\n",
    "        if subset.empty:\n",
    "            continue\n",
    "        frames[sheet] = subset\n",
    "\n",
    "    if not frames:\n",
    "        raise ValueError(f\"Keine Fold-Sheets in {path} gefunden.\")\n",
    "\n",
    "    return frames\n",
    "\n",
    "\n",
    "def clean_transcript(text: str) -> str:\n",
    "    if not isinstance(text, str):\n",
    "        text = \"\" if text is None else str(text)\n",
    "\n",
    "    text = text.strip()\n",
    "    text = SPECIAL_TOKEN_PATTERN.sub(\" \", text)\n",
    "    text = TIMESTAMP_PATTERN.sub(\" \", text)\n",
    "    text = text.replace(\"▁\", \" \")\n",
    "    text = text.replace(\"|\", \" \")\n",
    "    text = MULTISPACE_PATTERN.sub(\" \", text)\n",
    "    return text.strip().lower()\n",
    "\n",
    "\n",
    "def compute_wer_for_pairs(references: Iterable[str], hypotheses: Iterable[str]) -> float:\n",
    "    refs = [clean_transcript(r) for r in references]\n",
    "    hyps = [clean_transcript(h) for h in hypotheses]\n",
    "    ref_text = \"\\n\".join(refs)\n",
    "    hyp_text = \"\\n\".join(hyps)\n",
    "    return wer(ref_text, hyp_text)\n",
    "\n",
    "\n",
    "@dataclass\n",
    "class FoldResult:\n",
    "    workbook_label: str\n",
    "    fold_name: str\n",
    "    wer: float\n",
    "    utterances: int\n",
    "\n",
    "\n",
    "@dataclass\n",
    "class WorkbookSummary:\n",
    "    label: str\n",
    "    fold_results: List[FoldResult]\n",
    "    overall_wer: float\n",
    "    total_utterances: int\n",
    "\n",
    "\n",
    "def evaluate_workbook(label: str, workbook_path: Path) -> WorkbookSummary:\n",
    "    frames = load_fold_frames(workbook_path)\n",
    "    fold_results: List[FoldResult] = []\n",
    "    all_refs: List[str] = []\n",
    "    all_hyps: List[str] = []\n",
    "\n",
    "    for fold_name, frame in sorted(frames.items()):\n",
    "        refs = frame[\"reference\"].tolist()\n",
    "        hyps = frame[\"hypothesis\"].tolist()\n",
    "\n",
    "        fold_wer = compute_wer_for_pairs(refs, hyps)\n",
    "        fold_results.append(\n",
    "            FoldResult(\n",
    "                workbook_label=label,\n",
    "                fold_name=fold_name,\n",
    "                wer=fold_wer,\n",
    "                utterances=len(refs),\n",
    "            )\n",
    "        )\n",
    "        all_refs.extend(refs)\n",
    "        all_hyps.extend(hyps)\n",
    "\n",
    "    overall = compute_wer_for_pairs(all_refs, all_hyps)\n",
    "    return WorkbookSummary(\n",
    "        label=label,\n",
    "        fold_results=fold_results,\n",
    "        overall_wer=overall,\n",
    "        total_utterances=len(all_refs),\n",
    "    )\n"
   ]
  },
  {
   "cell_type": "markdown",
   "id": "3e340a4e",
   "metadata": {},
   "source": [
    "\n",
    "## 3. WER-Berechnung\n",
    "\n",
    "Wir evaluieren Basis- und Finetuning-Workbooks, führen die Kennzahlen pro Fold zusammen und ergänzen den aggregierten Gesamtwert.\n"
   ]
  },
  {
   "cell_type": "code",
   "execution_count": 17,
   "id": "bc6c009a",
   "metadata": {
    "ExecuteTime": {
     "end_time": "2025-10-29T16:23:01.599873Z",
     "start_time": "2025-10-29T16:23:01.361799Z"
    }
   },
   "outputs": [
    {
     "data": {
      "text/html": [
       "<div>\n",
       "<style scoped>\n",
       "    .dataframe tbody tr th:only-of-type {\n",
       "        vertical-align: middle;\n",
       "    }\n",
       "\n",
       "    .dataframe tbody tr th {\n",
       "        vertical-align: top;\n",
       "    }\n",
       "\n",
       "    .dataframe thead th {\n",
       "        text-align: right;\n",
       "    }\n",
       "</style>\n",
       "<table border=\"1\" class=\"dataframe\">\n",
       "  <thead>\n",
       "    <tr style=\"text-align: right;\">\n",
       "      <th></th>\n",
       "      <th>model_variant</th>\n",
       "      <th>fold</th>\n",
       "      <th>wer</th>\n",
       "      <th>utterances</th>\n",
       "    </tr>\n",
       "  </thead>\n",
       "  <tbody>\n",
       "    <tr>\n",
       "      <th>0</th>\n",
       "      <td>baseline</td>\n",
       "      <td>Fold_1</td>\n",
       "      <td>0.399524</td>\n",
       "      <td>357</td>\n",
       "    </tr>\n",
       "    <tr>\n",
       "      <th>1</th>\n",
       "      <td>baseline</td>\n",
       "      <td>Fold_2</td>\n",
       "      <td>0.410967</td>\n",
       "      <td>305</td>\n",
       "    </tr>\n",
       "    <tr>\n",
       "      <th>2</th>\n",
       "      <td>baseline</td>\n",
       "      <td>Fold_3</td>\n",
       "      <td>0.373710</td>\n",
       "      <td>213</td>\n",
       "    </tr>\n",
       "    <tr>\n",
       "      <th>3</th>\n",
       "      <td>baseline</td>\n",
       "      <td>Fold_4</td>\n",
       "      <td>0.401840</td>\n",
       "      <td>238</td>\n",
       "    </tr>\n",
       "    <tr>\n",
       "      <th>4</th>\n",
       "      <td>baseline</td>\n",
       "      <td>Fold_5</td>\n",
       "      <td>0.424867</td>\n",
       "      <td>333</td>\n",
       "    </tr>\n",
       "    <tr>\n",
       "      <th>5</th>\n",
       "      <td>baseline</td>\n",
       "      <td>overall</td>\n",
       "      <td>0.403996</td>\n",
       "      <td>1446</td>\n",
       "    </tr>\n",
       "    <tr>\n",
       "      <th>6</th>\n",
       "      <td>finetuned</td>\n",
       "      <td>Fold_1</td>\n",
       "      <td>0.261667</td>\n",
       "      <td>357</td>\n",
       "    </tr>\n",
       "    <tr>\n",
       "      <th>7</th>\n",
       "      <td>finetuned</td>\n",
       "      <td>Fold_2</td>\n",
       "      <td>0.258780</td>\n",
       "      <td>305</td>\n",
       "    </tr>\n",
       "    <tr>\n",
       "      <th>8</th>\n",
       "      <td>finetuned</td>\n",
       "      <td>Fold_3</td>\n",
       "      <td>0.200987</td>\n",
       "      <td>213</td>\n",
       "    </tr>\n",
       "    <tr>\n",
       "      <th>9</th>\n",
       "      <td>finetuned</td>\n",
       "      <td>Fold_4</td>\n",
       "      <td>0.240089</td>\n",
       "      <td>238</td>\n",
       "    </tr>\n",
       "    <tr>\n",
       "      <th>10</th>\n",
       "      <td>finetuned</td>\n",
       "      <td>Fold_5</td>\n",
       "      <td>0.281968</td>\n",
       "      <td>333</td>\n",
       "    </tr>\n",
       "    <tr>\n",
       "      <th>11</th>\n",
       "      <td>finetuned</td>\n",
       "      <td>overall</td>\n",
       "      <td>0.252806</td>\n",
       "      <td>1446</td>\n",
       "    </tr>\n",
       "  </tbody>\n",
       "</table>\n",
       "</div>"
      ],
      "text/plain": [
       "   model_variant     fold       wer  utterances\n",
       "0       baseline   Fold_1  0.399524         357\n",
       "1       baseline   Fold_2  0.410967         305\n",
       "2       baseline   Fold_3  0.373710         213\n",
       "3       baseline   Fold_4  0.401840         238\n",
       "4       baseline   Fold_5  0.424867         333\n",
       "5       baseline  overall  0.403996        1446\n",
       "6      finetuned   Fold_1  0.261667         357\n",
       "7      finetuned   Fold_2  0.258780         305\n",
       "8      finetuned   Fold_3  0.200987         213\n",
       "9      finetuned   Fold_4  0.240089         238\n",
       "10     finetuned   Fold_5  0.281968         333\n",
       "11     finetuned  overall  0.252806        1446"
      ]
     },
     "execution_count": 17,
     "metadata": {},
     "output_type": "execute_result"
    }
   ],
   "source": [
    "\n",
    "base_summary = evaluate_workbook(\"baseline\", BASE_WORKBOOK)\n",
    "finetuned_summary = evaluate_workbook(\"finetuned\", FINETUNED_WORKBOOK)\n",
    "\n",
    "summary_rows = []\n",
    "for summary in (base_summary, finetuned_summary):\n",
    "    for fold_result in summary.fold_results:\n",
    "        summary_rows.append(\n",
    "            {\n",
    "                \"model_variant\": summary.label,\n",
    "                \"fold\": fold_result.fold_name,\n",
    "                \"wer\": fold_result.wer,\n",
    "                \"utterances\": fold_result.utterances,\n",
    "            }\n",
    "        )\n",
    "    summary_rows.append(\n",
    "        {\n",
    "            \"model_variant\": summary.label,\n",
    "            \"fold\": \"overall\",\n",
    "            \"wer\": summary.overall_wer,\n",
    "            \"utterances\": summary.total_utterances,\n",
    "        }\n",
    "    )\n",
    "\n",
    "wer_summary_df = pd.DataFrame(summary_rows)\n",
    "wer_summary_df\n"
   ]
  },
  {
   "cell_type": "markdown",
   "id": "85d0b90b",
   "metadata": {},
   "source": [
    "\n",
    "## 4. Visualisierung\n",
    "\n",
    "Zum schnellen Vergleich der beiden Modellvarianten wird der `overall`-WER in einem Balkendiagramm dargestellt. Zusätzlich zeigen wir die Einzelwerte pro Fold.\n"
   ]
  },
  {
   "cell_type": "code",
   "execution_count": 18,
   "id": "4d1e208c",
   "metadata": {
    "ExecuteTime": {
     "end_time": "2025-10-29T16:23:01.747278Z",
     "start_time": "2025-10-29T16:23:01.628234Z"
    }
   },
   "outputs": [
    {
     "name": "stderr",
     "output_type": "stream",
     "text": [
      "/var/folders/6l/kwcycbvx6hv5sw6sz8qf8xk00000gn/T/ipykernel_76394/624221765.py:3: FutureWarning: \n",
      "\n",
      "Passing `palette` without assigning `hue` is deprecated and will be removed in v0.14.0. Assign the `x` variable to `hue` and set `legend=False` for the same effect.\n",
      "\n",
      "  ax = sns.barplot(data=overall_df, x=\"model_variant\", y=\"wer\", palette=\"muted\")\n"
     ]
    },
    {
     "data": {
      "image/png": "[encoded data removed]",
      "text/plain": [
       "<Figure size 800x400 with 1 Axes>"
      ]
     },
     "jetTransient": {
      "display_id": null
     },
     "metadata": {},
     "output_type": "display_data"
    },
    {
     "data": {
      "image/png": "[encoded data removed]",
      "text/plain": [
       "<Figure size 1000x400 with 1 Axes>"
      ]
     },
     "jetTransient": {
      "display_id": null
     },
     "metadata": {},
     "output_type": "display_data"
    }
   ],
   "source": [
    "\n",
    "overall_df = wer_summary_df[wer_summary_df[\"fold\"] == \"overall\"].copy()\n",
    "plt.figure(figsize=(8, 4))\n",
    "ax = sns.barplot(data=overall_df, x=\"model_variant\", y=\"wer\", palette=\"muted\")\n",
    "ax.bar_label(ax.containers[0], fmt=\"{:.3f}\")\n",
    "plt.ylim(0, max(0.2, overall_df[\"wer\"].max() * 1.1))\n",
    "plt.title(\"Vergleich der Gesamt-WER pro Modellvariante\")\n",
    "plt.ylabel(\"Word Error Rate\")\n",
    "plt.xlabel(\"Modellvariante\")\n",
    "plt.show()\n",
    "\n",
    "plt.figure(figsize=(10, 4))\n",
    "fold_df = wer_summary_df[wer_summary_df[\"fold\"] != \"overall\"].copy()\n",
    "ax = sns.barplot(data=fold_df, x=\"fold\", y=\"wer\", hue=\"model_variant\", palette=\"muted\")\n",
    "plt.title(\"WER pro Fold\")\n",
    "plt.ylabel(\"Word Error Rate\")\n",
    "plt.xlabel(\"Fold\")\n",
    "plt.ylim(0, max(0.2, fold_df[\"wer\"].max() * 1.1))\n",
    "plt.legend(title=\"Modell\")\n",
    "plt.show()\n"
   ]
  },
  {
   "cell_type": "code",
   "execution_count": 19,
   "id": "579563ed",
   "metadata": {
    "ExecuteTime": {
     "end_time": "2025-10-29T16:23:01.782005Z",
     "start_time": "2025-10-29T16:23:01.778415Z"
    }
   },
   "outputs": [
    {
     "name": "stdout",
     "output_type": "stream",
     "text": [
      "\\begin{table}\n",
      "\\caption{Comparison of overall WER per model variant on dysfluencies}\n",
      "\\label{tab:overall_wer}\n",
      "\\begin{tabular}{lr}\n",
      "\\toprule\n",
      "Model Variant & WER \\\\\n",
      "\\midrule\n",
      "baseline & 0.4040 \\\\\n",
      "finetuned & 0.2528 \\\\\n",
      "\\bottomrule\n",
      "\\end{tabular}\n",
      "\\end{table}\n",
      "\n"
     ]
    }
   ],
   "source": [
    "latex_df = overall_df[[\"model_variant\", \"wer\"]].copy()\n",
    "latex_df = latex_df.rename(columns={\"model_variant\": \"Model Variant\", \"wer\": \"WER\"})\n",
    "latex_df[\"WER\"] = latex_df[\"WER\"].map(lambda value: round(value, 4))\n",
    "latex_table = latex_df.to_latex(index=False, float_format=\"{:.4f}\".format, caption=\"Comparison of overall WER per Whisper Large V3 Turbo model variant on dysfluencies\", label=\"tab:overall_wer\")\n",
    "print(latex_table)\n"
   ]
  },
  {
   "cell_type": "markdown",
   "id": "7dd20865",
   "metadata": {},
   "source": [
    "\n",
    "## 5. Interpretation & nächste Schritte\n",
    "\n",
    "- Prüfe signifikante Differenzen zwischen Basismodell und Finetuning. Eine niedrigere WER deutet auf bessere Performance hin.\n",
    "- Für qualitative Analysen lassen sich die schwierigsten Beispiele je Fold identifizieren (z. B. durch Sortierung nach Fehlerdifferenz).\n",
    "- Falls weitere Spezial-Tokens auftreten, erweitere die Funktion `clean_transcript` entsprechend.\n"
   ]
  }
 ],
 "metadata": {
  "kernelspec": {
   "display_name": "Python 3 (ipykernel)",
   "language": "python",
   "name": "python3"
  }
 },
 "nbformat": 4,
 "nbformat_minor": 5
}
